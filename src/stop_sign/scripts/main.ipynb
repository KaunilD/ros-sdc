{
 "cells": [
  {
   "cell_type": "code",
   "execution_count": 1,
   "metadata": {},
   "outputs": [],
   "source": [
    "from skimage.transform import pyramid_gaussian\n",
    "import argparse\n",
    "import cv2\n",
    "import time\n",
    "import numpy as np\n",
    "import glob\n",
    "from matplotlib import pyplot as plt"
   ]
  },
  {
   "cell_type": "code",
   "execution_count": 2,
   "metadata": {},
   "outputs": [],
   "source": [
    "DEBUG = False\n",
    "stop_sign = cv2.imread(\"../data/stop_sign.png\")\n",
    "stop_sign = cv2.resize(stop_sign, (16, 16))\n",
    "\n",
    "def sliding_window(image, step_size, window_size):\n",
    "    for y in range(0, image.shape[0], step_size):\n",
    "        for x in range(0, image.shape[1], step_size):\n",
    "            yield (x, y, image[y:y+window_size[1], x:x+window_size[1]])\n",
    "            \n",
    "            \n",
    "\n",
    "def meanSquareError(img1, img2):\n",
    "    assert img1.shape == img2.shape, \"Images must be the same shape.\"\n",
    "    error = np.sum((img1.astype(\"float\") - img2.astype(\"float\")) ** 2)\n",
    "    error = error/float(img1.shape[0] * img1.shape[1] * img1.shape[2])\n",
    "    return error\n",
    "\n",
    "def compareImages(img1, img2):\n",
    "    return 1./meanSquareError(img1, img2)\n",
    "\n",
    "def get_ssim(image, target, name, debug = False):\n",
    "    start = time.time()\n",
    "    max_ssim = -1\n",
    "    max_img = None\n",
    "    max_bbox = []  \n",
    "    if image.shape[0] != 320 and image.shape[1] != 240:\n",
    "        image = cv2.resize(image, (320, 240))\n",
    "    \n",
    "    while image.shape[0] > 16 and  image.shape[1] > 16:\n",
    "        image = cv2.pyrDown(image)\n",
    "        for (x, y, window) in sliding_window(image, step_size=2, window_size=(16, 16)):\n",
    "            if window.shape[0] != 16 or window.shape[1] != 16:\n",
    "                continue\n",
    "            ssim = compareImages(stop_sign, image[y:y+16, x:x+16])\n",
    "            if ssim > max_ssim:\n",
    "                max_ssim = ssim\n",
    "                max_img = image.copy()\n",
    "                max_bbox = [(x, y), (x + 16, y + 16)] \n",
    "            if not debug:\n",
    "                clone = image.copy()\n",
    "                cv2.rectangle(clone, (x, y), (x + 16, y + 16), (255, 0, 0), 2)\n",
    "                cv2.imshow(\"Window\",clone)\n",
    "                cv2.waitKey(1)\n",
    "                time.sleep(0.025)\n",
    "    if debug and max_ssim>-1:\n",
    "        if max_ssim < 8e-5:\n",
    "            cv2.rectangle(max_img, max_bbox[0], max_bbox[1], (0, 0, 255), 2)\n",
    "        else:\n",
    "            cv2.rectangle(max_img, max_bbox[0], max_bbox[1], (0, 255, 0), 2)\n",
    "        cv2.imwrite(\"{}.png\".format(name), max_img)\n",
    "        cv2.destroyAllWindows()\n",
    "    end = time.time()\n",
    "    return max_ssim, end-start"
   ]
  },
  {
   "cell_type": "code",
   "execution_count": 3,
   "metadata": {},
   "outputs": [
    {
     "data": {
      "text/plain": [
       "True"
      ]
     },
     "execution_count": 3,
     "metadata": {},
     "output_type": "execute_result"
    }
   ],
   "source": [
    "stop_sign.shape == (16, 16, 3)"
   ]
  },
  {
   "cell_type": "code",
   "execution_count": 4,
   "metadata": {},
   "outputs": [],
   "source": [
    "files = glob.glob('../data/stop_sign_data/')\n",
    "exec_times = []\n",
    "ssim = []\n",
    "for file in files:\n",
    "    img = cv2.imread(file)\n",
    "    a, b = get_ssim(img, stop_sign, file.split('\\\\')[-1], debug=True)\n",
    "    exec_times.append(b)\n",
    "    ssim.append(a)"
   ]
  },
  {
   "cell_type": "code",
   "execution_count": 67,
   "metadata": {},
   "outputs": [
    {
     "data": {
      "text/plain": [
       "[<matplotlib.lines.Line2D at 0x258a1d4e6a0>]"
      ]
     },
     "execution_count": 67,
     "metadata": {},
     "output_type": "execute_result"
    },
    {
     "data": {
      "image/png": "[encoded data removed]",
      "text/plain": [
       "<matplotlib.figure.Figure at 0x258a082f1d0>"
      ]
     },
     "metadata": {
      "needs_background": "light"
     },
     "output_type": "display_data"
    }
   ],
   "source": [
    "plt.plot(sorted(ssim))"
   ]
  },
  {
   "cell_type": "code",
   "execution_count": 69,
   "metadata": {},
   "outputs": [
    {
     "data": {
      "text/plain": [
       "[<matplotlib.lines.Line2D at 0x258a309e940>]"
      ]
     },
     "execution_count": 69,
     "metadata": {},
     "output_type": "execute_result"
    },
    {
     "data": {
      "image/png": "[encoded data removed]",
      "text/plain": [
       "<matplotlib.figure.Figure at 0x258a3045cf8>"
      ]
     },
     "metadata": {
      "needs_background": "light"
     },
     "output_type": "display_data"
    }
   ],
   "source": [
    "plt.plot(sorted(exec_times))"
   ]
  },
  {
   "cell_type": "code",
   "execution_count": null,
   "metadata": {},
   "outputs": [],
   "source": []
  }
 ],
 "metadata": {
  "kernelspec": {
   "display_name": "Python (pytorch)",
   "language": "python",
   "name": "pytorch"
  },
  "language_info": {
   "codemirror_mode": {
    "name": "ipython",
    "version": 3
   },
   "file_extension": ".py",
   "mimetype": "text/x-python",
   "name": "python",
   "nbconvert_exporter": "python",
   "pygments_lexer": "ipython3",
   "version": "3.5.6"
  }
 },
 "nbformat": 4,
 "nbformat_minor": 2
}

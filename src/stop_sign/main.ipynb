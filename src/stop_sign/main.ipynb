{
 "cells": [
  {
   "cell_type": "code",
   "execution_count": 28,
   "metadata": {},
   "outputs": [],
   "source": [
    "import torch\n",
    "from torch.utils.data import DataLoader\n",
    "from torchvision import datasets, transforms\n",
    "from torch.autograd import Variable\n",
    "\n",
    "import matplotlib.pyplot as plt\n",
    "import matplotlib.patches as patches\n",
    "from skimage.transform import pyramid_gaussian\n",
    "import argparse\n",
    "import cv2\n",
    "import time"
   ]
  },
  {
   "cell_type": "code",
   "execution_count": 29,
   "metadata": {},
   "outputs": [],
   "source": [
    "DEBUG=False"
   ]
  },
  {
   "cell_type": "code",
   "execution_count": 30,
   "metadata": {},
   "outputs": [
    {
     "name": "stdout",
     "output_type": "stream",
     "text": [
      "(640, 480)\n"
     ]
    }
   ],
   "source": [
    "image = cv2.imread(\"data/1.jpg\")\n",
    "image.resize((640, 480))\n",
    "print(image.shape)"
   ]
  },
  {
   "cell_type": "markdown",
   "metadata": {},
   "source": [
    "##### sliding window"
   ]
  },
  {
   "cell_type": "code",
   "execution_count": 31,
   "metadata": {},
   "outputs": [],
   "source": [
    "def sliding_window(image, step_size, window_size):\n",
    "    for y in range(0, image.shape[0], step_size):\n",
    "        for x in range(0, image.shape[1], step_size):\n",
    "            yield (x, y, image[y:y+window_size[1], x:x+window_size[1]])"
   ]
  },
  {
   "cell_type": "code",
   "execution_count": 32,
   "metadata": {},
   "outputs": [
    {
     "name": "stdout",
     "output_type": "stream",
     "text": [
      "0.04684710502624512\n"
     ]
    }
   ],
   "source": [
    "start = time.time()\n",
    "for (i, resized) in enumerate(pyramid_gaussian(image, downscale=2, multichannel=True)):\n",
    "    for (x, y, window) in sliding_window(resized, step_size=32, window_size=(32, 32)):\n",
    "        if window.shape[0] != 32 or window.shape[1] != 32:\n",
    "            continue\n",
    "        \n",
    "        # THIS IS WHERE YOU WOULD PROCESS YOUR WINDOW, SUCH AS APPLYING A\n",
    "        # MACHINE LEARNING CLASSIFIER TO CLASSIFY THE CONTENTS OF THE\n",
    "        # WINDOW\n",
    "        \n",
    "        if DEBUG:\n",
    "            clone = resized.copy()\n",
    "            cv2.rectangle(clone, (x, y), (x + 32, y + 32), (0, 255, 0), 2)\n",
    "            cv2.imshow(\"Window\", clone)\n",
    "            cv2.waitKey(1)\n",
    "            time.sleep(0.025)\n",
    "end = time.time()\n",
    "print(end-start)"
   ]
  },
  {
   "cell_type": "code",
   "execution_count": null,
   "metadata": {},
   "outputs": [],
   "source": []
  }
 ],
 "metadata": {
  "kernelspec": {
   "display_name": "Python (pytorch)",
   "language": "python",
   "name": "pytorch"
  },
  "language_info": {
   "codemirror_mode": {
    "name": "ipython",
    "version": 3
   },
   "file_extension": ".py",
   "mimetype": "text/x-python",
   "name": "python",
   "nbconvert_exporter": "python",
   "pygments_lexer": "ipython3",
   "version": "3.5.6"
  }
 },
 "nbformat": 4,
 "nbformat_minor": 2
}
